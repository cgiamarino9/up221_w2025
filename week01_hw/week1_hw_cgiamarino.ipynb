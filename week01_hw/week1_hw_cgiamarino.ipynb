{
 "cells": [
  {
   "cell_type": "markdown",
   "id": "c4507917-44d9-468a-9e06-dea1728ef7c6",
   "metadata": {},
   "source": [
    "# This is hw 1"
   ]
  },
  {
   "cell_type": "code",
   "execution_count": null,
   "id": "15061025-f5d7-4429-a0c0-1c430da6ee08",
   "metadata": {},
   "outputs": [],
   "source": []
  }
 ],
 "metadata": {
  "kernelspec": {
   "display_name": "Python 3 (ipykernel)",
   "language": "python",
   "name": "python3"
  },
  "language_info": {
   "codemirror_mode": {
    "name": "ipython",
    "version": 3
   },
   "file_extension": ".py",
   "mimetype": "text/x-python",
   "name": "python",
   "nbconvert_exporter": "python",
   "pygments_lexer": "ipython3",
   "version": "3.11.9"
  }
 },
 "nbformat": 4,
 "nbformat_minor": 5
}
